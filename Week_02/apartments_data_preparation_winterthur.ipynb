{
 "cells": [
  {
   "cell_type": "markdown",
   "id": "3272230e",
   "metadata": {},
   "source": [
    "# Importing and preparing rental apartments data"
   ]
  },
  {
   "cell_type": "markdown",
   "id": "c0e6a164",
   "metadata": {},
   "source": [
    "## Libraries and settings"
   ]
  },
  {
   "cell_type": "code",
   "execution_count": 1,
   "id": "e3b51c23",
   "metadata": {},
   "outputs": [
    {
     "name": "stdout",
     "output_type": "stream",
     "text": [
      "/workspaces/data_analytics/Week_02\n"
     ]
    }
   ],
   "source": [
    "# Libraries\n",
    "import os\n",
    "import re\n",
    "import time\n",
    "import fnmatch\n",
    "import numpy as np\n",
    "import pandas as pd\n",
    "\n",
    "# Ignore warnings\n",
    "import warnings\n",
    "warnings.filterwarnings(\"ignore\")\n",
    "\n",
    "# Get current working directory\n",
    "print(os.getcwd())"
   ]
  },
  {
   "cell_type": "markdown",
   "id": "2a7bff4a",
   "metadata": {},
   "source": [
    "## Importing data"
   ]
  },
  {
   "cell_type": "code",
   "execution_count": 2,
   "id": "aa8f37dd",
   "metadata": {
    "scrolled": true
   },
   "outputs": [
    {
     "name": "stdout",
     "output_type": "stream",
     "text": [
      "apartments_data_zuerich.csv\n",
      "apartments_data_winterthur.csv\n"
     ]
    },
    {
     "data": {
      "text/html": [
       "<div>\n",
       "<style scoped>\n",
       "    .dataframe tbody tr th:only-of-type {\n",
       "        vertical-align: middle;\n",
       "    }\n",
       "\n",
       "    .dataframe tbody tr th {\n",
       "        vertical-align: top;\n",
       "    }\n",
       "\n",
       "    .dataframe thead th {\n",
       "        text-align: right;\n",
       "    }\n",
       "</style>\n",
       "<table border=\"1\" class=\"dataframe\">\n",
       "  <thead>\n",
       "    <tr style=\"text-align: right;\">\n",
       "      <th></th>\n",
       "      <th>web-scraper-order</th>\n",
       "      <th>web-scraper-start-url</th>\n",
       "      <th>rooms_area_price_raw</th>\n",
       "      <th>address_raw</th>\n",
       "      <th>price_raw</th>\n",
       "      <th>description_raw</th>\n",
       "      <th>text_raw</th>\n",
       "    </tr>\n",
       "  </thead>\n",
       "  <tbody>\n",
       "    <tr>\n",
       "      <th>0</th>\n",
       "      <td>1693993818-1</td>\n",
       "      <td>https://www.immoscout24.ch/de/wohnung/mieten/o...</td>\n",
       "      <td>6,5 Zimmer, 143 m², CHF 3017.—</td>\n",
       "      <td>Am Eulachpark 25, 8404 Winterthur, ZH</td>\n",
       "      <td>CHF 3017.—</td>\n",
       "      <td>«Sie suchen die spezielle Maisonettewohnung?»</td>\n",
       "      <td>6,5 Zimmer, 143 m², CHF 3017.—Am Eulachpark 25...</td>\n",
       "    </tr>\n",
       "    <tr>\n",
       "      <th>1</th>\n",
       "      <td>1693993818-2</td>\n",
       "      <td>https://www.immoscout24.ch/de/wohnung/mieten/o...</td>\n",
       "      <td>1 Zimmer, 132 m², CHF 3260.—</td>\n",
       "      <td>Katharina Sulzer Platz 2, 8400 Winterthur, ZH</td>\n",
       "      <td>CHF 3260.—</td>\n",
       "      <td>«In Loft-iger Höhe MIETEN OHNE KAUTION»</td>\n",
       "      <td>1 Zimmer, 132 m², CHF 3260.—Katharina Sulzer P...</td>\n",
       "    </tr>\n",
       "    <tr>\n",
       "      <th>2</th>\n",
       "      <td>1693993818-3</td>\n",
       "      <td>https://www.immoscout24.ch/de/wohnung/mieten/o...</td>\n",
       "      <td>4,5 Zimmer, 117 m², CHF 3782.—</td>\n",
       "      <td>8400 Winterthur, ZH</td>\n",
       "      <td>CHF 3782.—</td>\n",
       "      <td>«MÖBLIERT, TEMPORÄR: 4½ ZI-WOHNUNG IN WINTERTH...</td>\n",
       "      <td>4,5 Zimmer, 117 m², CHF 3782.—8400 Winterthur,...</td>\n",
       "    </tr>\n",
       "    <tr>\n",
       "      <th>3</th>\n",
       "      <td>1693993818-4</td>\n",
       "      <td>https://www.immoscout24.ch/de/wohnung/mieten/o...</td>\n",
       "      <td>3,5 Zimmer, 88 m², CHF 2244.—</td>\n",
       "      <td>Untere Briggerstrasse 66, 8406 Winterthur, ZH</td>\n",
       "      <td>CHF 2244.—</td>\n",
       "      <td>«Modernes Leben im EG mit Gartensitzplatz»</td>\n",
       "      <td>3,5 Zimmer, 88 m², CHF 2244.—Untere Briggerstr...</td>\n",
       "    </tr>\n",
       "    <tr>\n",
       "      <th>4</th>\n",
       "      <td>1693993818-5</td>\n",
       "      <td>https://www.immoscout24.ch/de/wohnung/mieten/o...</td>\n",
       "      <td>3,5 Zimmer, 80 m², CHF 1980.—</td>\n",
       "      <td>Wülflingerstrasse 25, 8400 Winterthur, ZH</td>\n",
       "      <td>CHF 1980.—</td>\n",
       "      <td>«Schöne 3.5-Zimmerwohnung mit Balkon zu vermie...</td>\n",
       "      <td>3,5 Zimmer, 80 m², CHF 1980.—Wülflingerstrasse...</td>\n",
       "    </tr>\n",
       "  </tbody>\n",
       "</table>\n",
       "</div>"
      ],
      "text/plain": [
       "  web-scraper-order                              web-scraper-start-url  \\\n",
       "0      1693993818-1  https://www.immoscout24.ch/de/wohnung/mieten/o...   \n",
       "1      1693993818-2  https://www.immoscout24.ch/de/wohnung/mieten/o...   \n",
       "2      1693993818-3  https://www.immoscout24.ch/de/wohnung/mieten/o...   \n",
       "3      1693993818-4  https://www.immoscout24.ch/de/wohnung/mieten/o...   \n",
       "4      1693993818-5  https://www.immoscout24.ch/de/wohnung/mieten/o...   \n",
       "\n",
       "             rooms_area_price_raw  \\\n",
       "0  6,5 Zimmer, 143 m², CHF 3017.—   \n",
       "1    1 Zimmer, 132 m², CHF 3260.—   \n",
       "2  4,5 Zimmer, 117 m², CHF 3782.—   \n",
       "3   3,5 Zimmer, 88 m², CHF 2244.—   \n",
       "4   3,5 Zimmer, 80 m², CHF 1980.—   \n",
       "\n",
       "                                     address_raw   price_raw  \\\n",
       "0          Am Eulachpark 25, 8404 Winterthur, ZH  CHF 3017.—   \n",
       "1  Katharina Sulzer Platz 2, 8400 Winterthur, ZH  CHF 3260.—   \n",
       "2                            8400 Winterthur, ZH  CHF 3782.—   \n",
       "3  Untere Briggerstrasse 66, 8406 Winterthur, ZH  CHF 2244.—   \n",
       "4      Wülflingerstrasse 25, 8400 Winterthur, ZH  CHF 1980.—   \n",
       "\n",
       "                                     description_raw  \\\n",
       "0      «Sie suchen die spezielle Maisonettewohnung?»   \n",
       "1            «In Loft-iger Höhe MIETEN OHNE KAUTION»   \n",
       "2  «MÖBLIERT, TEMPORÄR: 4½ ZI-WOHNUNG IN WINTERTH...   \n",
       "3         «Modernes Leben im EG mit Gartensitzplatz»   \n",
       "4  «Schöne 3.5-Zimmerwohnung mit Balkon zu vermie...   \n",
       "\n",
       "                                            text_raw  \n",
       "0  6,5 Zimmer, 143 m², CHF 3017.—Am Eulachpark 25...  \n",
       "1  1 Zimmer, 132 m², CHF 3260.—Katharina Sulzer P...  \n",
       "2  4,5 Zimmer, 117 m², CHF 3782.—8400 Winterthur,...  \n",
       "3  3,5 Zimmer, 88 m², CHF 2244.—Untere Briggerstr...  \n",
       "4  3,5 Zimmer, 80 m², CHF 1980.—Wülflingerstrasse...  "
      ]
     },
     "execution_count": 2,
     "metadata": {},
     "output_type": "execute_result"
    }
   ],
   "source": [
    "# Show .csv - files in the directory\n",
    "flist = fnmatch.filter(os.listdir('.'), '*.csv')\n",
    "for i in flist:\n",
    "    print(i)\n",
    "\n",
    "# Read the data to a pandas data frame\n",
    "df = pd.read_csv('apartments_data_winterthur.csv', sep=',', encoding='utf-8')\n",
    "\n",
    "# Show first records of data frame\n",
    "df.head()\n"
   ]
  },
  {
   "cell_type": "markdown",
   "id": "b95e9f0e",
   "metadata": {},
   "source": [
    "## Count number of rows and columns in the data frame"
   ]
  },
  {
   "cell_type": "code",
   "execution_count": null,
   "id": "ec7391ad",
   "metadata": {},
   "outputs": [],
   "source": [
    "# Dimension (rows, columns)\n",
    "print('Dimension:', df.shape)\n",
    "\n",
    "# Number of rows\n",
    "print('Number of rows:', df.shape[0])\n",
    "\n",
    "# Number of columns\n",
    "print('Number of columns:', df.shape[1])"
   ]
  },
  {
   "cell_type": "markdown",
   "id": "ace6d22c",
   "metadata": {},
   "source": [
    "## Get data types (raw-format from web scraping)"
   ]
  },
  {
   "cell_type": "code",
   "execution_count": null,
   "id": "dd9244a5",
   "metadata": {},
   "outputs": [],
   "source": [
    "# Get data types (note that in pandas, a string is referred to as 'object')\n",
    "df.dtypes"
   ]
  },
  {
   "cell_type": "markdown",
   "id": "9ea951fd",
   "metadata": {},
   "source": [
    "## Extract and save relevant information from raw data using regular expressions (regex)"
   ]
  },
  {
   "cell_type": "markdown",
   "id": "7c3be629",
   "metadata": {},
   "source": [
    "### Extract number of rooms"
   ]
  },
  {
   "cell_type": "code",
   "execution_count": null,
   "id": "1c543c59",
   "metadata": {},
   "outputs": [],
   "source": [
    "# Extract values from 'rooms_area_price_raw' strings\n",
    "rooms = []\n",
    "for i in df['rooms_area_price_raw']:\n",
    "    d1 = re.findall('(.*)Zimmer', i)\n",
    "    try:\n",
    "        d2 = d1[0].strip().replace(',', '.')\n",
    "    except:\n",
    "        d2 = None\n",
    "    rooms.append(d2)\n",
    "\n",
    "# Save as new variable in the pandas data frame\n",
    "df['rooms'] = pd.Series(rooms, dtype=\"float64\")\n",
    "    \n",
    "# Print first 5 values\n",
    "print(df['rooms_area_price_raw'].head(5), '\\n')\n",
    "print(df['rooms'].head(5))"
   ]
  },
  {
   "cell_type": "markdown",
   "id": "d7f049dc",
   "metadata": {},
   "source": [
    "### Extract living area"
   ]
  },
  {
   "cell_type": "code",
   "execution_count": null,
   "id": "85bc7408",
   "metadata": {},
   "outputs": [],
   "source": [
    "# Extract values from 'rooms_area_price_raw' strings\n",
    "area = []\n",
    "for i in df['rooms_area_price_raw']:\n",
    "    d1 = re.findall('Zimmer, (.*)m²', i)\n",
    "    try:\n",
    "        d2 = d1[0].strip()\n",
    "    except:\n",
    "        d2 = None\n",
    "    area.append(d2)\n",
    "\n",
    "# Save as new variable in the pandas data frame\n",
    "df['area'] = pd.Series(area, dtype=\"Int64\")\n",
    "\n",
    "# Print first 5 values\n",
    "print(df['rooms_area_price_raw'].head(5), '\\n')\n",
    "print(df['area'].head(5))"
   ]
  },
  {
   "cell_type": "markdown",
   "id": "319ca1bd",
   "metadata": {},
   "source": [
    "### Extract rental price"
   ]
  },
  {
   "cell_type": "code",
   "execution_count": null,
   "id": "97bba5d3",
   "metadata": {},
   "outputs": [],
   "source": [
    "# Extract values from 'price_raw' strings\n",
    "price = []\n",
    "for i in df['price_raw']:\n",
    "    d1 = re.findall('[0-9]+', i)\n",
    "    try:\n",
    "        d2 = d1[0].strip()\n",
    "    except:\n",
    "        d2 = None\n",
    "    price.append(d2)\n",
    "\n",
    "# Save as new variable in the pandas data frame\n",
    "df['price'] = pd.Series(price, dtype=\"Int64\")\n",
    "\n",
    "# Print first 5 values\n",
    "print(df['price_raw'].head(5), '\\n')\n",
    "print(df['price'].head(5))"
   ]
  },
  {
   "cell_type": "markdown",
   "id": "53c03c80",
   "metadata": {},
   "source": [
    "### Get data types of all variables including the new ones"
   ]
  },
  {
   "cell_type": "code",
   "execution_count": null,
   "id": "e2bc73f4",
   "metadata": {},
   "outputs": [],
   "source": [
    "df.dtypes"
   ]
  },
  {
   "cell_type": "markdown",
   "id": "bad3c2d0",
   "metadata": {},
   "source": [
    "## Count and identify missing values (if any)"
   ]
  },
  {
   "cell_type": "code",
   "execution_count": null,
   "id": "707adcf1",
   "metadata": {},
   "outputs": [],
   "source": [
    "# Count missing values\n",
    "print(pd.isna(df).sum())\n",
    "\n",
    "# Identify rows with missing values\n",
    "df[df.isna().any(axis=1)].head()"
   ]
  },
  {
   "cell_type": "markdown",
   "id": "92641a30",
   "metadata": {},
   "source": [
    "## Count and identify duplicated values (if any)"
   ]
  },
  {
   "cell_type": "code",
   "execution_count": null,
   "id": "cc6214d8",
   "metadata": {},
   "outputs": [],
   "source": [
    "# Count duplicated values\n",
    "print(df.duplicated().sum())\n",
    "\n",
    "# Identify rows with duplicated values, e.g.:\n",
    "df[df[['web-scraper-order', 'price_raw', 'address_raw']].duplicated()]"
   ]
  },
  {
   "cell_type": "markdown",
   "id": "165f8f9f",
   "metadata": {},
   "source": [
    "### Save data to file"
   ]
  },
  {
   "cell_type": "code",
   "execution_count": null,
   "id": "3c2773d3",
   "metadata": {},
   "outputs": [],
   "source": [
    "df.to_csv('apartments_data_prepared.csv', \n",
    "          sep=\",\", \n",
    "          encoding='utf-8',\n",
    "          index=False)"
   ]
  },
  {
   "cell_type": "markdown",
   "id": "86257783",
   "metadata": {},
   "source": [
    "### Jupyter notebook --footer info-- (please always provide this at the end of each submitted notebook)"
   ]
  },
  {
   "cell_type": "code",
   "execution_count": null,
   "id": "7f5bf8aa",
   "metadata": {},
   "outputs": [],
   "source": [
    "import os\n",
    "import platform\n",
    "import socket\n",
    "from platform import python_version\n",
    "from datetime import datetime\n",
    "\n",
    "print('-----------------------------------')\n",
    "print(os.name.upper())\n",
    "print(platform.system(), '|', platform.release())\n",
    "print('Datetime:', datetime.now().strftime(\"%Y-%m-%d %H:%M:%S\"))\n",
    "print('Python Version:', python_version())\n",
    "print('-----------------------------------')"
   ]
  }
 ],
 "metadata": {
  "kernelspec": {
   "display_name": "Python 3 (ipykernel)",
   "language": "python",
   "name": "python3"
  },
  "language_info": {
   "codemirror_mode": {
    "name": "ipython",
    "version": 3
   },
   "file_extension": ".py",
   "mimetype": "text/x-python",
   "name": "python",
   "nbconvert_exporter": "python",
   "pygments_lexer": "ipython3",
   "version": "3.10.13"
  }
 },
 "nbformat": 4,
 "nbformat_minor": 5
}
